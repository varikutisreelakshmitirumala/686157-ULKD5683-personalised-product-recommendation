{
 "cells": [
  {
   "cell_type": "markdown",
   "id": "19887b15",
   "metadata": {},
   "source": [
    "# Personalized product recommendation"
   ]
  },
  {
   "cell_type": "markdown",
   "id": "99015444",
   "metadata": {},
   "source": [
    "# importing libraries"
   ]
  },
  {
   "cell_type": "code",
   "execution_count": null,
   "id": "695e7ee8",
   "metadata": {},
   "outputs": [],
   "source": [
    "import warnings\n",
    "warnings.filterwarnings('ignore')\n",
    "\n",
    "import numpy as np\n",
    "import pandas as pd\n",
    "\n",
    "import matplotlib.pyplot as plt\n",
    "import seaborn as sns\n",
    "\n",
    "from sklearn.metrics.pairwise import cosine_similarity\n",
    "\n",
    "from sklearn.metrics import mean_squared_error\n",
    "\n",
    "from scipy.sparse.linalg import svds # for sparse matrices\n",
    "     "
   ]
  },
  {
   "cell_type": "markdown",
   "id": "96ac46ac",
   "metadata": {},
   "source": [
    "# Importing Dataset"
   ]
  },
  {
   "cell_type": "code",
   "execution_count": 91,
   "id": "3fac3503",
   "metadata": {},
   "outputs": [],
   "source": [
    "df = pd.read_csv(\"C:\\\\Users\\\\tirum\\\\Downloads\\\\ratings_Electronics1.csv\",header=None) #There are no headers in the data file\n",
    "\n",
    "df.columns = ['user_id', 'prod_id', 'rating', 'timestamp'] #Adding column names\n",
    "\n",
    "df = df.drop('timestamp', axis=1) #Dropping timestamp\n",
    "\n",
    "df_copy = df.copy(deep=True) #Copying the data to another dataframe"
   ]
  },
  {
   "cell_type": "markdown",
   "id": "c2a7b9e7",
   "metadata": {},
   "source": [
    "# shape"
   ]
  },
  {
   "cell_type": "code",
   "execution_count": 9,
   "id": "05f83465",
   "metadata": {},
   "outputs": [
    {
     "name": "stdout",
     "output_type": "stream",
     "text": [
      "No of rows =  1048576\n",
      "No of columns =  3\n"
     ]
    }
   ],
   "source": [
    "rows, columns = df.shape\n",
    "print(\"No of rows = \", rows)\n",
    "print(\"No of columns = \", columns)\n",
    "     "
   ]
  },
  {
   "cell_type": "markdown",
   "id": "2ec70c27",
   "metadata": {},
   "source": [
    "# Datatypes"
   ]
  },
  {
   "cell_type": "code",
   "execution_count": 10,
   "id": "89949477",
   "metadata": {},
   "outputs": [
    {
     "name": "stdout",
     "output_type": "stream",
     "text": [
      "<class 'pandas.core.frame.DataFrame'>\n",
      "RangeIndex: 1048576 entries, 0 to 1048575\n",
      "Data columns (total 3 columns):\n",
      " #   Column   Non-Null Count    Dtype \n",
      "---  ------   --------------    ----- \n",
      " 0   user_id  1048576 non-null  object\n",
      " 1   prod_id  1048576 non-null  object\n",
      " 2   rating   1048576 non-null  int64 \n",
      "dtypes: int64(1), object(2)\n",
      "memory usage: 24.0+ MB\n"
     ]
    }
   ],
   "source": [
    "df.info()\n"
   ]
  },
  {
   "cell_type": "markdown",
   "id": "e9676e69",
   "metadata": {},
   "source": [
    "# missing values"
   ]
  },
  {
   "cell_type": "code",
   "execution_count": 11,
   "id": "988b355b",
   "metadata": {},
   "outputs": [
    {
     "data": {
      "text/plain": [
       "user_id    0\n",
       "prod_id    0\n",
       "rating     0\n",
       "dtype: int64"
      ]
     },
     "execution_count": 11,
     "metadata": {},
     "output_type": "execute_result"
    }
   ],
   "source": [
    "# Find number of missing values in each column\n",
    "df.isna().sum()"
   ]
  },
  {
   "cell_type": "markdown",
   "id": "c1ae8ca9",
   "metadata": {},
   "source": [
    "# summary"
   ]
  },
  {
   "cell_type": "code",
   "execution_count": 12,
   "id": "90067f7b",
   "metadata": {},
   "outputs": [
    {
     "data": {
      "text/plain": [
       "count    1.048576e+06\n",
       "mean     3.973380e+00\n",
       "std      1.399329e+00\n",
       "min      1.000000e+00\n",
       "25%      3.000000e+00\n",
       "50%      5.000000e+00\n",
       "75%      5.000000e+00\n",
       "max      5.000000e+00\n",
       "Name: rating, dtype: float64"
      ]
     },
     "execution_count": 12,
     "metadata": {},
     "output_type": "execute_result"
    }
   ],
   "source": [
    "# Summary statistics of 'rating' variable\n",
    "df['rating'].describe()\n",
    "     "
   ]
  },
  {
   "cell_type": "markdown",
   "id": "ecbf9ce0",
   "metadata": {},
   "source": [
    "# Rating distribution"
   ]
  },
  {
   "cell_type": "code",
   "execution_count": 13,
   "id": "181905c5",
   "metadata": {
    "scrolled": false
   },
   "outputs": [
    {
     "data": {
      "image/png": "[encoded data removed]",
      "text/plain": [
       "<Figure size 1200x600 with 1 Axes>"
      ]
     },
     "metadata": {},
     "output_type": "display_data"
    }
   ],
   "source": [
    "#Create the plot and provide observations\n",
    "\n",
    "plt.figure(figsize = (12,6))\n",
    "df['rating'].value_counts(1).plot(kind='bar')\n",
    "plt.show()"
   ]
  },
  {
   "cell_type": "code",
   "execution_count": null,
   "id": "98fac0ec",
   "metadata": {},
   "outputs": [],
   "source": [
    "The distribution is skewed to the right. Over 50% of the ratings are 5, followed by a little below 20% with 4 star ratings. And the percentages of ratings keep going down until below 10% of the ratings are 2 stars."
   ]
  },
  {
   "cell_type": "markdown",
   "id": "3a9e098b",
   "metadata": {},
   "source": [
    "# No of unique users and items"
   ]
  },
  {
   "cell_type": "code",
   "execution_count": 14,
   "id": "28df027f",
   "metadata": {},
   "outputs": [
    {
     "name": "stdout",
     "output_type": "stream",
     "text": [
      "Number of unique USERS in Raw data =  786330\n",
      "Number of unique ITEMS in Raw data =  61894\n"
     ]
    }
   ],
   "source": [
    "# Number of unique user id and product id in the data\n",
    "print('Number of unique USERS in Raw data = ', df['user_id'].nunique())\n",
    "print('Number of unique ITEMS in Raw data = ', df['prod_id'].nunique())"
   ]
  },
  {
   "cell_type": "markdown",
   "id": "26d276ca",
   "metadata": {},
   "source": [
    "# Users with most no of rating"
   ]
  },
  {
   "cell_type": "code",
   "execution_count": 15,
   "id": "7647d429",
   "metadata": {},
   "outputs": [
    {
     "data": {
      "text/plain": [
       "user_id\n",
       "A5JLAU2ARJ0BO     412\n",
       "A231WM2Z2JL0U3    249\n",
       "A25HBO5V8S8SEA    164\n",
       "A6FIAB28IS79      146\n",
       "AT6CZDCP4TRGA     128\n",
       "AKT8TGIT6VVZ5     122\n",
       "A11D1KHM7DVOQK    112\n",
       "A2B7BUH8834Y6M    103\n",
       "A3OXHLG6DIBRW8     95\n",
       "A203OCQQ12MAVT     90\n",
       "dtype: int64"
      ]
     },
     "execution_count": 15,
     "metadata": {},
     "output_type": "execute_result"
    }
   ],
   "source": [
    "\n",
    "# Top 10 users based on rating\n",
    "most_rated = df.groupby('user_id').size().sort_values(ascending=False)[:10]\n",
    "most_rated"
   ]
  },
  {
   "cell_type": "markdown",
   "id": "6c73902e",
   "metadata": {},
   "source": [
    "# Pre-Processing"
   ]
  },
  {
   "cell_type": "code",
   "execution_count": 16,
   "id": "6a523e81",
   "metadata": {},
   "outputs": [],
   "source": [
    "counts = df['user_id'].value_counts()\n",
    "df_final = df[df['user_id'].isin(counts[counts >= 50].index)]\n",
    "     "
   ]
  },
  {
   "cell_type": "code",
   "execution_count": 17,
   "id": "d689a687",
   "metadata": {},
   "outputs": [
    {
     "name": "stdout",
     "output_type": "stream",
     "text": [
      "The number of observations in the final data = 3456\n",
      "Number of unique USERS in the final data =  38\n",
      "Number of unique PRODUCTS in the final data =  2943\n"
     ]
    }
   ],
   "source": [
    "\n",
    "print('The number of observations in the final data =', len(df_final))\n",
    "print('Number of unique USERS in the final data = ', df_final['user_id'].nunique())\n",
    "print('Number of unique PRODUCTS in the final data = ', df_final['prod_id'].nunique())"
   ]
  },
  {
   "cell_type": "markdown",
   "id": "0b566384",
   "metadata": {},
   "source": [
    "# Checking the density of the rating matrix"
   ]
  },
  {
   "cell_type": "code",
   "execution_count": 18,
   "id": "f83d04b6",
   "metadata": {},
   "outputs": [
    {
     "name": "stdout",
     "output_type": "stream",
     "text": [
      "Shape of final_ratings_matrix:  (38, 2943)\n",
      "given_num_of_ratings =  3456\n",
      "possible_num_of_ratings =  111834\n",
      "density: 3.09%\n"
     ]
    },
    {
     "data": {
      "text/html": [
       "<div>\n",
       "<style scoped>\n",
       "    .dataframe tbody tr th:only-of-type {\n",
       "        vertical-align: middle;\n",
       "    }\n",
       "\n",
       "    .dataframe tbody tr th {\n",
       "        vertical-align: top;\n",
       "    }\n",
       "\n",
       "    .dataframe thead th {\n",
       "        text-align: right;\n",
       "    }\n",
       "</style>\n",
       "<table border=\"1\" class=\"dataframe\">\n",
       "  <thead>\n",
       "    <tr style=\"text-align: right;\">\n",
       "      <th>prod_id</th>\n",
       "      <th>1400532655</th>\n",
       "      <th>1400599997</th>\n",
       "      <th>9043413585</th>\n",
       "      <th>998376234X</th>\n",
       "      <th>B000000O48</th>\n",
       "      <th>B000001OL6</th>\n",
       "      <th>B000001OMI</th>\n",
       "      <th>B000001OMN</th>\n",
       "      <th>B00000DM9W</th>\n",
       "      <th>B00000J05A</th>\n",
       "      <th>...</th>\n",
       "      <th>B000I992XY</th>\n",
       "      <th>B000I9B2AA</th>\n",
       "      <th>B000IALP88</th>\n",
       "      <th>B000IBRX4M</th>\n",
       "      <th>B000ICZZJG</th>\n",
       "      <th>B000IDCDZY</th>\n",
       "      <th>B000IDWDKO</th>\n",
       "      <th>B000IE5XIC</th>\n",
       "      <th>B000IE8Z4Q</th>\n",
       "      <th>B000IF4788</th>\n",
       "    </tr>\n",
       "    <tr>\n",
       "      <th>user_id</th>\n",
       "      <th></th>\n",
       "      <th></th>\n",
       "      <th></th>\n",
       "      <th></th>\n",
       "      <th></th>\n",
       "      <th></th>\n",
       "      <th></th>\n",
       "      <th></th>\n",
       "      <th></th>\n",
       "      <th></th>\n",
       "      <th></th>\n",
       "      <th></th>\n",
       "      <th></th>\n",
       "      <th></th>\n",
       "      <th></th>\n",
       "      <th></th>\n",
       "      <th></th>\n",
       "      <th></th>\n",
       "      <th></th>\n",
       "      <th></th>\n",
       "      <th></th>\n",
       "    </tr>\n",
       "  </thead>\n",
       "  <tbody>\n",
       "    <tr>\n",
       "      <th>A11D1KHM7DVOQK</th>\n",
       "      <td>0.0</td>\n",
       "      <td>0.0</td>\n",
       "      <td>0.0</td>\n",
       "      <td>0.0</td>\n",
       "      <td>0.0</td>\n",
       "      <td>0.0</td>\n",
       "      <td>0.0</td>\n",
       "      <td>2.0</td>\n",
       "      <td>0.0</td>\n",
       "      <td>0.0</td>\n",
       "      <td>...</td>\n",
       "      <td>0.0</td>\n",
       "      <td>0.0</td>\n",
       "      <td>0.0</td>\n",
       "      <td>0.0</td>\n",
       "      <td>0.0</td>\n",
       "      <td>0.0</td>\n",
       "      <td>0.0</td>\n",
       "      <td>0.0</td>\n",
       "      <td>0.0</td>\n",
       "      <td>0.0</td>\n",
       "    </tr>\n",
       "    <tr>\n",
       "      <th>A12DLJESJKM1OQ</th>\n",
       "      <td>0.0</td>\n",
       "      <td>0.0</td>\n",
       "      <td>0.0</td>\n",
       "      <td>0.0</td>\n",
       "      <td>0.0</td>\n",
       "      <td>0.0</td>\n",
       "      <td>0.0</td>\n",
       "      <td>0.0</td>\n",
       "      <td>0.0</td>\n",
       "      <td>0.0</td>\n",
       "      <td>...</td>\n",
       "      <td>0.0</td>\n",
       "      <td>0.0</td>\n",
       "      <td>0.0</td>\n",
       "      <td>0.0</td>\n",
       "      <td>0.0</td>\n",
       "      <td>0.0</td>\n",
       "      <td>0.0</td>\n",
       "      <td>0.0</td>\n",
       "      <td>0.0</td>\n",
       "      <td>0.0</td>\n",
       "    </tr>\n",
       "    <tr>\n",
       "      <th>A1435P5AMCPB3X</th>\n",
       "      <td>0.0</td>\n",
       "      <td>0.0</td>\n",
       "      <td>0.0</td>\n",
       "      <td>0.0</td>\n",
       "      <td>0.0</td>\n",
       "      <td>0.0</td>\n",
       "      <td>0.0</td>\n",
       "      <td>0.0</td>\n",
       "      <td>0.0</td>\n",
       "      <td>0.0</td>\n",
       "      <td>...</td>\n",
       "      <td>0.0</td>\n",
       "      <td>0.0</td>\n",
       "      <td>0.0</td>\n",
       "      <td>0.0</td>\n",
       "      <td>0.0</td>\n",
       "      <td>0.0</td>\n",
       "      <td>0.0</td>\n",
       "      <td>0.0</td>\n",
       "      <td>0.0</td>\n",
       "      <td>0.0</td>\n",
       "    </tr>\n",
       "    <tr>\n",
       "      <th>A149RNR5RH19YY</th>\n",
       "      <td>0.0</td>\n",
       "      <td>0.0</td>\n",
       "      <td>0.0</td>\n",
       "      <td>0.0</td>\n",
       "      <td>0.0</td>\n",
       "      <td>0.0</td>\n",
       "      <td>0.0</td>\n",
       "      <td>0.0</td>\n",
       "      <td>0.0</td>\n",
       "      <td>0.0</td>\n",
       "      <td>...</td>\n",
       "      <td>0.0</td>\n",
       "      <td>0.0</td>\n",
       "      <td>0.0</td>\n",
       "      <td>0.0</td>\n",
       "      <td>0.0</td>\n",
       "      <td>0.0</td>\n",
       "      <td>0.0</td>\n",
       "      <td>0.0</td>\n",
       "      <td>0.0</td>\n",
       "      <td>0.0</td>\n",
       "    </tr>\n",
       "    <tr>\n",
       "      <th>A15QYHQH80W30L</th>\n",
       "      <td>0.0</td>\n",
       "      <td>0.0</td>\n",
       "      <td>0.0</td>\n",
       "      <td>0.0</td>\n",
       "      <td>0.0</td>\n",
       "      <td>0.0</td>\n",
       "      <td>0.0</td>\n",
       "      <td>0.0</td>\n",
       "      <td>0.0</td>\n",
       "      <td>0.0</td>\n",
       "      <td>...</td>\n",
       "      <td>0.0</td>\n",
       "      <td>0.0</td>\n",
       "      <td>0.0</td>\n",
       "      <td>0.0</td>\n",
       "      <td>0.0</td>\n",
       "      <td>0.0</td>\n",
       "      <td>0.0</td>\n",
       "      <td>0.0</td>\n",
       "      <td>0.0</td>\n",
       "      <td>0.0</td>\n",
       "    </tr>\n",
       "  </tbody>\n",
       "</table>\n",
       "<p>5 rows × 2943 columns</p>\n",
       "</div>"
      ],
      "text/plain": [
       "prod_id         1400532655  1400599997  9043413585  998376234X  B000000O48  \\\n",
       "user_id                                                                      \n",
       "A11D1KHM7DVOQK         0.0         0.0         0.0         0.0         0.0   \n",
       "A12DLJESJKM1OQ         0.0         0.0         0.0         0.0         0.0   \n",
       "A1435P5AMCPB3X         0.0         0.0         0.0         0.0         0.0   \n",
       "A149RNR5RH19YY         0.0         0.0         0.0         0.0         0.0   \n",
       "A15QYHQH80W30L         0.0         0.0         0.0         0.0         0.0   \n",
       "\n",
       "prod_id         B000001OL6  B000001OMI  B000001OMN  B00000DM9W  B00000J05A  \\\n",
       "user_id                                                                      \n",
       "A11D1KHM7DVOQK         0.0         0.0         2.0         0.0         0.0   \n",
       "A12DLJESJKM1OQ         0.0         0.0         0.0         0.0         0.0   \n",
       "A1435P5AMCPB3X         0.0         0.0         0.0         0.0         0.0   \n",
       "A149RNR5RH19YY         0.0         0.0         0.0         0.0         0.0   \n",
       "A15QYHQH80W30L         0.0         0.0         0.0         0.0         0.0   \n",
       "\n",
       "prod_id         ...  B000I992XY  B000I9B2AA  B000IALP88  B000IBRX4M  \\\n",
       "user_id         ...                                                   \n",
       "A11D1KHM7DVOQK  ...         0.0         0.0         0.0         0.0   \n",
       "A12DLJESJKM1OQ  ...         0.0         0.0         0.0         0.0   \n",
       "A1435P5AMCPB3X  ...         0.0         0.0         0.0         0.0   \n",
       "A149RNR5RH19YY  ...         0.0         0.0         0.0         0.0   \n",
       "A15QYHQH80W30L  ...         0.0         0.0         0.0         0.0   \n",
       "\n",
       "prod_id         B000ICZZJG  B000IDCDZY  B000IDWDKO  B000IE5XIC  B000IE8Z4Q  \\\n",
       "user_id                                                                      \n",
       "A11D1KHM7DVOQK         0.0         0.0         0.0         0.0         0.0   \n",
       "A12DLJESJKM1OQ         0.0         0.0         0.0         0.0         0.0   \n",
       "A1435P5AMCPB3X         0.0         0.0         0.0         0.0         0.0   \n",
       "A149RNR5RH19YY         0.0         0.0         0.0         0.0         0.0   \n",
       "A15QYHQH80W30L         0.0         0.0         0.0         0.0         0.0   \n",
       "\n",
       "prod_id         B000IF4788  \n",
       "user_id                     \n",
       "A11D1KHM7DVOQK         0.0  \n",
       "A12DLJESJKM1OQ         0.0  \n",
       "A1435P5AMCPB3X         0.0  \n",
       "A149RNR5RH19YY         0.0  \n",
       "A15QYHQH80W30L         0.0  \n",
       "\n",
       "[5 rows x 2943 columns]"
      ]
     },
     "execution_count": 18,
     "metadata": {},
     "output_type": "execute_result"
    }
   ],
   "source": [
    "#Creating the interaction matrix of products and users based on ratings and replacing NaN value with 0\n",
    "final_ratings_matrix = df_final.pivot(index = 'user_id', columns ='prod_id', values = 'rating').fillna(0)\n",
    "print('Shape of final_ratings_matrix: ', final_ratings_matrix.shape)\n",
    "\n",
    "#Finding the number of non-zero entries in the interaction matrix \n",
    "given_num_of_ratings = np.count_nonzero(final_ratings_matrix)\n",
    "print('given_num_of_ratings = ', given_num_of_ratings)\n",
    "\n",
    "#Finding the possible number of ratings as per the number of users and products\n",
    "possible_num_of_ratings = final_ratings_matrix.shape[0] * final_ratings_matrix.shape[1]\n",
    "print('possible_num_of_ratings = ', possible_num_of_ratings)\n",
    "\n",
    "#Density of ratings\n",
    "density = (given_num_of_ratings/possible_num_of_ratings)\n",
    "density *= 100\n",
    "print ('density: {:4.2f}%'.format(density))\n",
    "\n",
    "final_ratings_matrix.head()"
   ]
  },
  {
   "cell_type": "markdown",
   "id": "da87c404",
   "metadata": {},
   "source": [
    "# Rank Based Recommendation System"
   ]
  },
  {
   "cell_type": "code",
   "execution_count": 19,
   "id": "838de869",
   "metadata": {},
   "outputs": [
    {
     "data": {
      "text/html": [
       "<div>\n",
       "<style scoped>\n",
       "    .dataframe tbody tr th:only-of-type {\n",
       "        vertical-align: middle;\n",
       "    }\n",
       "\n",
       "    .dataframe tbody tr th {\n",
       "        vertical-align: top;\n",
       "    }\n",
       "\n",
       "    .dataframe thead th {\n",
       "        text-align: right;\n",
       "    }\n",
       "</style>\n",
       "<table border=\"1\" class=\"dataframe\">\n",
       "  <thead>\n",
       "    <tr style=\"text-align: right;\">\n",
       "      <th></th>\n",
       "      <th>avg_rating</th>\n",
       "      <th>rating_count</th>\n",
       "    </tr>\n",
       "    <tr>\n",
       "      <th>prod_id</th>\n",
       "      <th></th>\n",
       "      <th></th>\n",
       "    </tr>\n",
       "  </thead>\n",
       "  <tbody>\n",
       "    <tr>\n",
       "      <th>B0009VNE0S</th>\n",
       "      <td>5.0</td>\n",
       "      <td>1</td>\n",
       "    </tr>\n",
       "    <tr>\n",
       "      <th>B0002ZA7I8</th>\n",
       "      <td>5.0</td>\n",
       "      <td>1</td>\n",
       "    </tr>\n",
       "    <tr>\n",
       "      <th>B00008VFCS</th>\n",
       "      <td>5.0</td>\n",
       "      <td>1</td>\n",
       "    </tr>\n",
       "    <tr>\n",
       "      <th>B000EXS1BS</th>\n",
       "      <td>5.0</td>\n",
       "      <td>1</td>\n",
       "    </tr>\n",
       "    <tr>\n",
       "      <th>B00008VF7U</th>\n",
       "      <td>5.0</td>\n",
       "      <td>1</td>\n",
       "    </tr>\n",
       "  </tbody>\n",
       "</table>\n",
       "</div>"
      ],
      "text/plain": [
       "            avg_rating  rating_count\n",
       "prod_id                             \n",
       "B0009VNE0S         5.0             1\n",
       "B0002ZA7I8         5.0             1\n",
       "B00008VFCS         5.0             1\n",
       "B000EXS1BS         5.0             1\n",
       "B00008VF7U         5.0             1"
      ]
     },
     "execution_count": 19,
     "metadata": {},
     "output_type": "execute_result"
    }
   ],
   "source": [
    "#Calculate the average rating for each product \n",
    "average_rating = df_final.groupby('prod_id').mean()['rating']\n",
    "\n",
    "#Calculate the count of ratings for each product\n",
    "count_rating = df_final.groupby('prod_id').count()['rating']\n",
    "\n",
    "#Create a dataframe with calculated average and count of ratings\n",
    "final_rating = pd.DataFrame({'avg_rating':average_rating, 'rating_count':count_rating})\n",
    "\n",
    "#Sort the dataframe by average of ratings\n",
    "final_rating = final_rating.sort_values(by='avg_rating',ascending=False)\n",
    "\n",
    "final_rating.head()"
   ]
  },
  {
   "cell_type": "code",
   "execution_count": 75,
   "id": "f36f7eb7",
   "metadata": {},
   "outputs": [],
   "source": [
    "#defining a function to get the top n products based on highest average rating and minimum interactions\n",
    "def top_n_products(final_rating, n, min_interaction):\n",
    "    \n",
    "    #Finding products with minimum number of interactions\n",
    "    recommendations = final_rating[final_rating['rating_count']>min_interaction]\n",
    "    \n",
    "    #Sorting values w.r.t average rating \n",
    "    recommendations = recommendations.sort_values('avg_rating',ascending=False)\n",
    "    \n",
    "    return recommendations.index[:n]\n",
    "\n",
    "\n",
    "\n"
   ]
  },
  {
   "cell_type": "code",
   "execution_count": 78,
   "id": "b95d156c",
   "metadata": {},
   "outputs": [
    {
     "name": "stdout",
     "output_type": "stream",
     "text": [
      "            avg_rating  rating_count\n",
      "prod_id                             \n",
      "B0009VNE0S         5.0             1\n",
      "B0002ZA7I8         5.0             1\n",
      "B00008VFCS         5.0             1\n",
      "B000EXS1BS         5.0             1\n",
      "B00008VF7U         5.0             1\n"
     ]
    }
   ],
   "source": [
    "\n",
    "print(final_rating.head())\n"
   ]
  },
  {
   "cell_type": "markdown",
   "id": "eddfa747",
   "metadata": {},
   "source": [
    "# Recommending top 5 products with 1 minimum interactions based on popularity"
   ]
  },
  {
   "cell_type": "code",
   "execution_count": 90,
   "id": "5d8ffb05",
   "metadata": {},
   "outputs": [
    {
     "data": {
      "text/plain": [
       "['B000089GN3', 'B00006JI6U', 'B00015GYU4', 'B000204SWE', 'B000BY52NK']"
      ]
     },
     "execution_count": 90,
     "metadata": {},
     "output_type": "execute_result"
    }
   ],
   "source": [
    "list(top_n_products(final_rating, 5, 1))"
   ]
  },
  {
   "cell_type": "markdown",
   "id": "fad35493",
   "metadata": {},
   "source": [
    "# Collaborative Filtering based Recommendation System"
   ]
  },
  {
   "cell_type": "markdown",
   "id": "383f48e9",
   "metadata": {},
   "source": [
    "# User based collaborative filtering"
   ]
  },
  {
   "cell_type": "code",
   "execution_count": 26,
   "id": "6a072512",
   "metadata": {},
   "outputs": [
    {
     "data": {
      "text/html": [
       "<div>\n",
       "<style scoped>\n",
       "    .dataframe tbody tr th:only-of-type {\n",
       "        vertical-align: middle;\n",
       "    }\n",
       "\n",
       "    .dataframe tbody tr th {\n",
       "        vertical-align: top;\n",
       "    }\n",
       "\n",
       "    .dataframe thead th {\n",
       "        text-align: right;\n",
       "    }\n",
       "</style>\n",
       "<table border=\"1\" class=\"dataframe\">\n",
       "  <thead>\n",
       "    <tr style=\"text-align: right;\">\n",
       "      <th>prod_id</th>\n",
       "      <th>1400532655</th>\n",
       "      <th>1400599997</th>\n",
       "      <th>9043413585</th>\n",
       "      <th>998376234X</th>\n",
       "      <th>B000000O48</th>\n",
       "      <th>B000001OL6</th>\n",
       "      <th>B000001OMI</th>\n",
       "      <th>B000001OMN</th>\n",
       "      <th>B00000DM9W</th>\n",
       "      <th>B00000J05A</th>\n",
       "      <th>...</th>\n",
       "      <th>B000I992XY</th>\n",
       "      <th>B000I9B2AA</th>\n",
       "      <th>B000IALP88</th>\n",
       "      <th>B000IBRX4M</th>\n",
       "      <th>B000ICZZJG</th>\n",
       "      <th>B000IDCDZY</th>\n",
       "      <th>B000IDWDKO</th>\n",
       "      <th>B000IE5XIC</th>\n",
       "      <th>B000IE8Z4Q</th>\n",
       "      <th>B000IF4788</th>\n",
       "    </tr>\n",
       "    <tr>\n",
       "      <th>user_id</th>\n",
       "      <th></th>\n",
       "      <th></th>\n",
       "      <th></th>\n",
       "      <th></th>\n",
       "      <th></th>\n",
       "      <th></th>\n",
       "      <th></th>\n",
       "      <th></th>\n",
       "      <th></th>\n",
       "      <th></th>\n",
       "      <th></th>\n",
       "      <th></th>\n",
       "      <th></th>\n",
       "      <th></th>\n",
       "      <th></th>\n",
       "      <th></th>\n",
       "      <th></th>\n",
       "      <th></th>\n",
       "      <th></th>\n",
       "      <th></th>\n",
       "      <th></th>\n",
       "    </tr>\n",
       "  </thead>\n",
       "  <tbody>\n",
       "    <tr>\n",
       "      <th>A11D1KHM7DVOQK</th>\n",
       "      <td>0.0</td>\n",
       "      <td>0.0</td>\n",
       "      <td>0.0</td>\n",
       "      <td>0.0</td>\n",
       "      <td>0.0</td>\n",
       "      <td>0.0</td>\n",
       "      <td>0.0</td>\n",
       "      <td>2.0</td>\n",
       "      <td>0.0</td>\n",
       "      <td>0.0</td>\n",
       "      <td>...</td>\n",
       "      <td>0.0</td>\n",
       "      <td>0.0</td>\n",
       "      <td>0.0</td>\n",
       "      <td>0.0</td>\n",
       "      <td>0.0</td>\n",
       "      <td>0.0</td>\n",
       "      <td>0.0</td>\n",
       "      <td>0.0</td>\n",
       "      <td>0.0</td>\n",
       "      <td>0.0</td>\n",
       "    </tr>\n",
       "    <tr>\n",
       "      <th>A12DLJESJKM1OQ</th>\n",
       "      <td>0.0</td>\n",
       "      <td>0.0</td>\n",
       "      <td>0.0</td>\n",
       "      <td>0.0</td>\n",
       "      <td>0.0</td>\n",
       "      <td>0.0</td>\n",
       "      <td>0.0</td>\n",
       "      <td>0.0</td>\n",
       "      <td>0.0</td>\n",
       "      <td>0.0</td>\n",
       "      <td>...</td>\n",
       "      <td>0.0</td>\n",
       "      <td>0.0</td>\n",
       "      <td>0.0</td>\n",
       "      <td>0.0</td>\n",
       "      <td>0.0</td>\n",
       "      <td>0.0</td>\n",
       "      <td>0.0</td>\n",
       "      <td>0.0</td>\n",
       "      <td>0.0</td>\n",
       "      <td>0.0</td>\n",
       "    </tr>\n",
       "    <tr>\n",
       "      <th>A1435P5AMCPB3X</th>\n",
       "      <td>0.0</td>\n",
       "      <td>0.0</td>\n",
       "      <td>0.0</td>\n",
       "      <td>0.0</td>\n",
       "      <td>0.0</td>\n",
       "      <td>0.0</td>\n",
       "      <td>0.0</td>\n",
       "      <td>0.0</td>\n",
       "      <td>0.0</td>\n",
       "      <td>0.0</td>\n",
       "      <td>...</td>\n",
       "      <td>0.0</td>\n",
       "      <td>0.0</td>\n",
       "      <td>0.0</td>\n",
       "      <td>0.0</td>\n",
       "      <td>0.0</td>\n",
       "      <td>0.0</td>\n",
       "      <td>0.0</td>\n",
       "      <td>0.0</td>\n",
       "      <td>0.0</td>\n",
       "      <td>0.0</td>\n",
       "    </tr>\n",
       "    <tr>\n",
       "      <th>A149RNR5RH19YY</th>\n",
       "      <td>0.0</td>\n",
       "      <td>0.0</td>\n",
       "      <td>0.0</td>\n",
       "      <td>0.0</td>\n",
       "      <td>0.0</td>\n",
       "      <td>0.0</td>\n",
       "      <td>0.0</td>\n",
       "      <td>0.0</td>\n",
       "      <td>0.0</td>\n",
       "      <td>0.0</td>\n",
       "      <td>...</td>\n",
       "      <td>0.0</td>\n",
       "      <td>0.0</td>\n",
       "      <td>0.0</td>\n",
       "      <td>0.0</td>\n",
       "      <td>0.0</td>\n",
       "      <td>0.0</td>\n",
       "      <td>0.0</td>\n",
       "      <td>0.0</td>\n",
       "      <td>0.0</td>\n",
       "      <td>0.0</td>\n",
       "    </tr>\n",
       "    <tr>\n",
       "      <th>A15QYHQH80W30L</th>\n",
       "      <td>0.0</td>\n",
       "      <td>0.0</td>\n",
       "      <td>0.0</td>\n",
       "      <td>0.0</td>\n",
       "      <td>0.0</td>\n",
       "      <td>0.0</td>\n",
       "      <td>0.0</td>\n",
       "      <td>0.0</td>\n",
       "      <td>0.0</td>\n",
       "      <td>0.0</td>\n",
       "      <td>...</td>\n",
       "      <td>0.0</td>\n",
       "      <td>0.0</td>\n",
       "      <td>0.0</td>\n",
       "      <td>0.0</td>\n",
       "      <td>0.0</td>\n",
       "      <td>0.0</td>\n",
       "      <td>0.0</td>\n",
       "      <td>0.0</td>\n",
       "      <td>0.0</td>\n",
       "      <td>0.0</td>\n",
       "    </tr>\n",
       "  </tbody>\n",
       "</table>\n",
       "<p>5 rows × 2943 columns</p>\n",
       "</div>"
      ],
      "text/plain": [
       "prod_id         1400532655  1400599997  9043413585  998376234X  B000000O48  \\\n",
       "user_id                                                                      \n",
       "A11D1KHM7DVOQK         0.0         0.0         0.0         0.0         0.0   \n",
       "A12DLJESJKM1OQ         0.0         0.0         0.0         0.0         0.0   \n",
       "A1435P5AMCPB3X         0.0         0.0         0.0         0.0         0.0   \n",
       "A149RNR5RH19YY         0.0         0.0         0.0         0.0         0.0   \n",
       "A15QYHQH80W30L         0.0         0.0         0.0         0.0         0.0   \n",
       "\n",
       "prod_id         B000001OL6  B000001OMI  B000001OMN  B00000DM9W  B00000J05A  \\\n",
       "user_id                                                                      \n",
       "A11D1KHM7DVOQK         0.0         0.0         2.0         0.0         0.0   \n",
       "A12DLJESJKM1OQ         0.0         0.0         0.0         0.0         0.0   \n",
       "A1435P5AMCPB3X         0.0         0.0         0.0         0.0         0.0   \n",
       "A149RNR5RH19YY         0.0         0.0         0.0         0.0         0.0   \n",
       "A15QYHQH80W30L         0.0         0.0         0.0         0.0         0.0   \n",
       "\n",
       "prod_id         ...  B000I992XY  B000I9B2AA  B000IALP88  B000IBRX4M  \\\n",
       "user_id         ...                                                   \n",
       "A11D1KHM7DVOQK  ...         0.0         0.0         0.0         0.0   \n",
       "A12DLJESJKM1OQ  ...         0.0         0.0         0.0         0.0   \n",
       "A1435P5AMCPB3X  ...         0.0         0.0         0.0         0.0   \n",
       "A149RNR5RH19YY  ...         0.0         0.0         0.0         0.0   \n",
       "A15QYHQH80W30L  ...         0.0         0.0         0.0         0.0   \n",
       "\n",
       "prod_id         B000ICZZJG  B000IDCDZY  B000IDWDKO  B000IE5XIC  B000IE8Z4Q  \\\n",
       "user_id                                                                      \n",
       "A11D1KHM7DVOQK         0.0         0.0         0.0         0.0         0.0   \n",
       "A12DLJESJKM1OQ         0.0         0.0         0.0         0.0         0.0   \n",
       "A1435P5AMCPB3X         0.0         0.0         0.0         0.0         0.0   \n",
       "A149RNR5RH19YY         0.0         0.0         0.0         0.0         0.0   \n",
       "A15QYHQH80W30L         0.0         0.0         0.0         0.0         0.0   \n",
       "\n",
       "prod_id         B000IF4788  \n",
       "user_id                     \n",
       "A11D1KHM7DVOQK         0.0  \n",
       "A12DLJESJKM1OQ         0.0  \n",
       "A1435P5AMCPB3X         0.0  \n",
       "A149RNR5RH19YY         0.0  \n",
       "A15QYHQH80W30L         0.0  \n",
       "\n",
       "[5 rows x 2943 columns]"
      ]
     },
     "execution_count": 26,
     "metadata": {},
     "output_type": "execute_result"
    }
   ],
   "source": [
    "final_ratings_matrix.head()"
   ]
  },
  {
   "cell_type": "code",
   "execution_count": 27,
   "id": "cdddf2b3",
   "metadata": {},
   "outputs": [
    {
     "data": {
      "text/html": [
       "<div>\n",
       "<style scoped>\n",
       "    .dataframe tbody tr th:only-of-type {\n",
       "        vertical-align: middle;\n",
       "    }\n",
       "\n",
       "    .dataframe tbody tr th {\n",
       "        vertical-align: top;\n",
       "    }\n",
       "\n",
       "    .dataframe thead th {\n",
       "        text-align: right;\n",
       "    }\n",
       "</style>\n",
       "<table border=\"1\" class=\"dataframe\">\n",
       "  <thead>\n",
       "    <tr style=\"text-align: right;\">\n",
       "      <th>prod_id</th>\n",
       "      <th>1400532655</th>\n",
       "      <th>1400599997</th>\n",
       "      <th>9043413585</th>\n",
       "      <th>998376234X</th>\n",
       "      <th>B000000O48</th>\n",
       "      <th>B000001OL6</th>\n",
       "      <th>B000001OMI</th>\n",
       "      <th>B000001OMN</th>\n",
       "      <th>B00000DM9W</th>\n",
       "      <th>B00000J05A</th>\n",
       "      <th>...</th>\n",
       "      <th>B000I992XY</th>\n",
       "      <th>B000I9B2AA</th>\n",
       "      <th>B000IALP88</th>\n",
       "      <th>B000IBRX4M</th>\n",
       "      <th>B000ICZZJG</th>\n",
       "      <th>B000IDCDZY</th>\n",
       "      <th>B000IDWDKO</th>\n",
       "      <th>B000IE5XIC</th>\n",
       "      <th>B000IE8Z4Q</th>\n",
       "      <th>B000IF4788</th>\n",
       "    </tr>\n",
       "    <tr>\n",
       "      <th>user_index</th>\n",
       "      <th></th>\n",
       "      <th></th>\n",
       "      <th></th>\n",
       "      <th></th>\n",
       "      <th></th>\n",
       "      <th></th>\n",
       "      <th></th>\n",
       "      <th></th>\n",
       "      <th></th>\n",
       "      <th></th>\n",
       "      <th></th>\n",
       "      <th></th>\n",
       "      <th></th>\n",
       "      <th></th>\n",
       "      <th></th>\n",
       "      <th></th>\n",
       "      <th></th>\n",
       "      <th></th>\n",
       "      <th></th>\n",
       "      <th></th>\n",
       "      <th></th>\n",
       "    </tr>\n",
       "  </thead>\n",
       "  <tbody>\n",
       "    <tr>\n",
       "      <th>0</th>\n",
       "      <td>0.0</td>\n",
       "      <td>0.0</td>\n",
       "      <td>0.0</td>\n",
       "      <td>0.0</td>\n",
       "      <td>0.0</td>\n",
       "      <td>0.0</td>\n",
       "      <td>0.0</td>\n",
       "      <td>2.0</td>\n",
       "      <td>0.0</td>\n",
       "      <td>0.0</td>\n",
       "      <td>...</td>\n",
       "      <td>0.0</td>\n",
       "      <td>0.0</td>\n",
       "      <td>0.0</td>\n",
       "      <td>0.0</td>\n",
       "      <td>0.0</td>\n",
       "      <td>0.0</td>\n",
       "      <td>0.0</td>\n",
       "      <td>0.0</td>\n",
       "      <td>0.0</td>\n",
       "      <td>0.0</td>\n",
       "    </tr>\n",
       "    <tr>\n",
       "      <th>1</th>\n",
       "      <td>0.0</td>\n",
       "      <td>0.0</td>\n",
       "      <td>0.0</td>\n",
       "      <td>0.0</td>\n",
       "      <td>0.0</td>\n",
       "      <td>0.0</td>\n",
       "      <td>0.0</td>\n",
       "      <td>0.0</td>\n",
       "      <td>0.0</td>\n",
       "      <td>0.0</td>\n",
       "      <td>...</td>\n",
       "      <td>0.0</td>\n",
       "      <td>0.0</td>\n",
       "      <td>0.0</td>\n",
       "      <td>0.0</td>\n",
       "      <td>0.0</td>\n",
       "      <td>0.0</td>\n",
       "      <td>0.0</td>\n",
       "      <td>0.0</td>\n",
       "      <td>0.0</td>\n",
       "      <td>0.0</td>\n",
       "    </tr>\n",
       "    <tr>\n",
       "      <th>2</th>\n",
       "      <td>0.0</td>\n",
       "      <td>0.0</td>\n",
       "      <td>0.0</td>\n",
       "      <td>0.0</td>\n",
       "      <td>0.0</td>\n",
       "      <td>0.0</td>\n",
       "      <td>0.0</td>\n",
       "      <td>0.0</td>\n",
       "      <td>0.0</td>\n",
       "      <td>0.0</td>\n",
       "      <td>...</td>\n",
       "      <td>0.0</td>\n",
       "      <td>0.0</td>\n",
       "      <td>0.0</td>\n",
       "      <td>0.0</td>\n",
       "      <td>0.0</td>\n",
       "      <td>0.0</td>\n",
       "      <td>0.0</td>\n",
       "      <td>0.0</td>\n",
       "      <td>0.0</td>\n",
       "      <td>0.0</td>\n",
       "    </tr>\n",
       "    <tr>\n",
       "      <th>3</th>\n",
       "      <td>0.0</td>\n",
       "      <td>0.0</td>\n",
       "      <td>0.0</td>\n",
       "      <td>0.0</td>\n",
       "      <td>0.0</td>\n",
       "      <td>0.0</td>\n",
       "      <td>0.0</td>\n",
       "      <td>0.0</td>\n",
       "      <td>0.0</td>\n",
       "      <td>0.0</td>\n",
       "      <td>...</td>\n",
       "      <td>0.0</td>\n",
       "      <td>0.0</td>\n",
       "      <td>0.0</td>\n",
       "      <td>0.0</td>\n",
       "      <td>0.0</td>\n",
       "      <td>0.0</td>\n",
       "      <td>0.0</td>\n",
       "      <td>0.0</td>\n",
       "      <td>0.0</td>\n",
       "      <td>0.0</td>\n",
       "    </tr>\n",
       "    <tr>\n",
       "      <th>4</th>\n",
       "      <td>0.0</td>\n",
       "      <td>0.0</td>\n",
       "      <td>0.0</td>\n",
       "      <td>0.0</td>\n",
       "      <td>0.0</td>\n",
       "      <td>0.0</td>\n",
       "      <td>0.0</td>\n",
       "      <td>0.0</td>\n",
       "      <td>0.0</td>\n",
       "      <td>0.0</td>\n",
       "      <td>...</td>\n",
       "      <td>0.0</td>\n",
       "      <td>0.0</td>\n",
       "      <td>0.0</td>\n",
       "      <td>0.0</td>\n",
       "      <td>0.0</td>\n",
       "      <td>0.0</td>\n",
       "      <td>0.0</td>\n",
       "      <td>0.0</td>\n",
       "      <td>0.0</td>\n",
       "      <td>0.0</td>\n",
       "    </tr>\n",
       "  </tbody>\n",
       "</table>\n",
       "<p>5 rows × 2943 columns</p>\n",
       "</div>"
      ],
      "text/plain": [
       "prod_id     1400532655  1400599997  9043413585  998376234X  B000000O48  \\\n",
       "user_index                                                               \n",
       "0                  0.0         0.0         0.0         0.0         0.0   \n",
       "1                  0.0         0.0         0.0         0.0         0.0   \n",
       "2                  0.0         0.0         0.0         0.0         0.0   \n",
       "3                  0.0         0.0         0.0         0.0         0.0   \n",
       "4                  0.0         0.0         0.0         0.0         0.0   \n",
       "\n",
       "prod_id     B000001OL6  B000001OMI  B000001OMN  B00000DM9W  B00000J05A  ...  \\\n",
       "user_index                                                              ...   \n",
       "0                  0.0         0.0         2.0         0.0         0.0  ...   \n",
       "1                  0.0         0.0         0.0         0.0         0.0  ...   \n",
       "2                  0.0         0.0         0.0         0.0         0.0  ...   \n",
       "3                  0.0         0.0         0.0         0.0         0.0  ...   \n",
       "4                  0.0         0.0         0.0         0.0         0.0  ...   \n",
       "\n",
       "prod_id     B000I992XY  B000I9B2AA  B000IALP88  B000IBRX4M  B000ICZZJG  \\\n",
       "user_index                                                               \n",
       "0                  0.0         0.0         0.0         0.0         0.0   \n",
       "1                  0.0         0.0         0.0         0.0         0.0   \n",
       "2                  0.0         0.0         0.0         0.0         0.0   \n",
       "3                  0.0         0.0         0.0         0.0         0.0   \n",
       "4                  0.0         0.0         0.0         0.0         0.0   \n",
       "\n",
       "prod_id     B000IDCDZY  B000IDWDKO  B000IE5XIC  B000IE8Z4Q  B000IF4788  \n",
       "user_index                                                              \n",
       "0                  0.0         0.0         0.0         0.0         0.0  \n",
       "1                  0.0         0.0         0.0         0.0         0.0  \n",
       "2                  0.0         0.0         0.0         0.0         0.0  \n",
       "3                  0.0         0.0         0.0         0.0         0.0  \n",
       "4                  0.0         0.0         0.0         0.0         0.0  \n",
       "\n",
       "[5 rows x 2943 columns]"
      ]
     },
     "execution_count": 27,
     "metadata": {},
     "output_type": "execute_result"
    }
   ],
   "source": [
    "final_ratings_matrix['user_index'] = np.arange(0, final_ratings_matrix.shape[0])\n",
    "final_ratings_matrix.set_index(['user_index'], inplace=True)\n",
    "\n",
    "# Actual ratings given by users\n",
    "final_ratings_matrix.head()"
   ]
  },
  {
   "cell_type": "markdown",
   "id": "59928492",
   "metadata": {},
   "source": [
    "# Function to find Similar users and their similarity scores"
   ]
  },
  {
   "cell_type": "code",
   "execution_count": 28,
   "id": "3a43af45",
   "metadata": {},
   "outputs": [],
   "source": [
    "\n",
    "# defining a function to get similar users\n",
    "def similar_users(user_index, interactions_matrix):\n",
    "    similarity = []\n",
    "    for user in range(0, interactions_matrix.shape[0]): #  .shape[0] gives number of rows\n",
    "        \n",
    "        #finding cosine similarity between the user_id and each user\n",
    "        sim = cosine_similarity([interactions_matrix.loc[user_index]], [interactions_matrix.loc[user]])\n",
    "        \n",
    "        #Appending the user and the corresponding similarity score with user_id as a tuple\n",
    "        similarity.append((user,sim))\n",
    "        \n",
    "    similarity.sort(key=lambda x: x[1], reverse=True)\n",
    "    most_similar_users = [tup[0] for tup in similarity] #Extract the user from each tuple in the sorted list\n",
    "    similarity_score = [tup[1] for tup in similarity] ##Extracting the similarity score from each tuple in the sorted list\n",
    "   \n",
    "    #Remove the original user and its similarity score and keep only other similar users \n",
    "    most_similar_users.remove(user_index)\n",
    "    similarity_score.remove(similarity_score[0])\n",
    "       \n",
    "    return most_similar_users, similarity_score"
   ]
  },
  {
   "cell_type": "markdown",
   "id": "8f070f10",
   "metadata": {},
   "source": [
    "# Function to recommend products"
   ]
  },
  {
   "cell_type": "code",
   "execution_count": 32,
   "id": "414bfee9",
   "metadata": {},
   "outputs": [],
   "source": [
    "# defining the recommendations function to get recommendations by using the similar users' preferences\n",
    "def recommendations(user_index, num_of_products, interactions_matrix):\n",
    "    \n",
    "    #Saving similar users using the function similar_users defined above\n",
    "    most_similar_users = similar_users(user_index, interactions_matrix)[0]\n",
    "    \n",
    "    #Finding product IDs with which the user_id has interacted\n",
    "    prod_ids = set(list(interactions_matrix.columns[np.where(interactions_matrix.loc[user_index] > 0)]))\n",
    "    recommendations = []\n",
    "    \n",
    "    observed_interactions = prod_ids.copy()\n",
    "    for similar_user in most_similar_users:\n",
    "        if len(recommendations) < num_of_products:\n",
    "            \n",
    "            #Finding 'n' products which have been rated by similar users but not by the user_id\n",
    "            similar_user_prod_ids = set(list(interactions_matrix.columns[np.where(interactions_matrix.loc[similar_user] > 0)]))\n",
    "            recommendations.extend(list(similar_user_prod_ids.difference(observed_interactions)))\n",
    "            observed_interactions = observed_interactions.union(similar_user_prod_ids)\n",
    "        else:\n",
    "            break\n",
    "    \n",
    "    return recommendations[:num_of_products]\n",
    "     "
   ]
  },
  {
   "cell_type": "markdown",
   "id": "d445bb1f",
   "metadata": {},
   "source": [
    "# Recommend 5 products to user index 3 based on similarity based collaborative filtering"
   ]
  },
  {
   "cell_type": "code",
   "execution_count": 33,
   "id": "5295cfd0",
   "metadata": {},
   "outputs": [
    {
     "data": {
      "text/plain": [
       "['B0007TC390', 'B0009MFQ1C', 'B00006I5WJ', 'B00008N6XJ', 'B000AJIF4E']"
      ]
     },
     "execution_count": 33,
     "metadata": {},
     "output_type": "execute_result"
    }
   ],
   "source": [
    "recommendations(3,5,final_ratings_matrix)"
   ]
  },
  {
   "cell_type": "markdown",
   "id": "ce4a6e89",
   "metadata": {},
   "source": [
    "# Model based Collaborative Filtering: Singular Value Decomposition\n",
    "We have seen above that the interaction matrix is highly sparse. SVD is best to apply on a large sparse matrix. Note that for sparse matrices, we can use the sparse.linalg.svds() function to perform the decomposition"
   ]
  },
  {
   "cell_type": "markdown",
   "id": "ad97e54a",
   "metadata": {},
   "source": [
    "# CSR matrix"
   ]
  },
  {
   "cell_type": "code",
   "execution_count": 39,
   "id": "9ce52a2f",
   "metadata": {},
   "outputs": [],
   "source": [
    "from scipy.sparse import csr_matrix\n",
    "from scipy.sparse.linalg import svds\n",
    "\n",
    "final_ratings_sparse = csr_matrix(final_ratings_matrix.values)\n"
   ]
  },
  {
   "cell_type": "code",
   "execution_count": 44,
   "id": "df4b4c4a",
   "metadata": {},
   "outputs": [
    {
     "name": "stdout",
     "output_type": "stream",
     "text": [
      "(38, 2943)\n"
     ]
    }
   ],
   "source": [
    "print(final_ratings_sparse.shape)\n"
   ]
  },
  {
   "cell_type": "markdown",
   "id": "3bfaa063",
   "metadata": {},
   "source": [
    "# SVD"
   ]
  },
  {
   "cell_type": "code",
   "execution_count": 45,
   "id": "c2d84e7d",
   "metadata": {},
   "outputs": [],
   "source": [
    "# Singular Value Decomposition\n",
    "U, s, Vt = svds(final_ratings_sparse, k = 37) # here k is the number of latent features\n",
    "\n",
    "# Construct diagonal array in SVD\n",
    "sigma = np.diag(s)"
   ]
  },
  {
   "cell_type": "code",
   "execution_count": 46,
   "id": "62201e8e",
   "metadata": {},
   "outputs": [
    {
     "data": {
      "text/plain": [
       "(38, 37)"
      ]
     },
     "execution_count": 46,
     "metadata": {},
     "output_type": "execute_result"
    }
   ],
   "source": [
    "U.shape"
   ]
  },
  {
   "cell_type": "code",
   "execution_count": 47,
   "id": "9a0be23c",
   "metadata": {},
   "outputs": [
    {
     "data": {
      "text/plain": [
       "(37, 37)"
      ]
     },
     "execution_count": 47,
     "metadata": {},
     "output_type": "execute_result"
    }
   ],
   "source": [
    "sigma.shape"
   ]
  },
  {
   "cell_type": "code",
   "execution_count": 48,
   "id": "21b18a38",
   "metadata": {},
   "outputs": [
    {
     "data": {
      "text/plain": [
       "(37, 2943)"
      ]
     },
     "execution_count": 48,
     "metadata": {},
     "output_type": "execute_result"
    }
   ],
   "source": [
    "Vt.shape"
   ]
  },
  {
   "cell_type": "markdown",
   "id": "633c6de1",
   "metadata": {},
   "source": [
    "# Now, let's regenerate the original matrix using U, Sigma, and Vt matrices. The resulting matrix would be the predicted ratings for all users and products"
   ]
  },
  {
   "cell_type": "markdown",
   "id": "c0e18620",
   "metadata": {},
   "source": [
    "# Predicting ratings"
   ]
  },
  {
   "cell_type": "code",
   "execution_count": 49,
   "id": "dbc6854c",
   "metadata": {},
   "outputs": [],
   "source": [
    "all_user_predicted_ratings = np.dot(np.dot(U, sigma), Vt) \n",
    "\n",
    "# Predicted ratings\n",
    "preds_df = pd.DataFrame(abs(all_user_predicted_ratings), columns = final_ratings_matrix.columns)\n",
    "preds_df.head()\n",
    "preds_matrix = csr_matrix(preds_df.values)"
   ]
  },
  {
   "cell_type": "markdown",
   "id": "cc4585f8",
   "metadata": {},
   "source": [
    "# Function to recommend products"
   ]
  },
  {
   "cell_type": "code",
   "execution_count": 50,
   "id": "b15fa9d0",
   "metadata": {},
   "outputs": [],
   "source": [
    "import numpy as np\n",
    "\n",
    "def recommend_items(user_index, interactions_matrix, preds_matrix, num_recommendations):\n",
    "    \n",
    "    # Get the user's ratings from the actual and predicted interaction matrices\n",
    "    user_ratings = interactions_matrix[user_index,:].toarray().reshape(-1)\n",
    "    user_predictions = preds_matrix[user_index,:].toarray().reshape(-1)\n",
    "\n",
    "    #Creating a dataframe with actual and predicted ratings columns\n",
    "    temp = pd.DataFrame({'user_ratings': user_ratings, 'user_predictions': user_predictions})\n",
    "    temp['Recommended Products'] = np.arange(len(user_ratings))\n",
    "    temp = temp.set_index('Recommended Products')\n",
    "    \n",
    "    #Filtering the dataframe where actual ratings are 0 which implies that the user has not interacted with that product\n",
    "    temp = temp.loc[temp.user_ratings == 0]   \n",
    "    \n",
    "    #Recommending products with top predicted ratings\n",
    "    temp = temp.sort_values('user_predictions',ascending=False)#Sort the dataframe by user_predictions in descending order\n",
    "    print('\\nBelow are the recommended products for user(user_id = {}):\\n'.format(user_index))\n",
    "    print(temp['user_predictions'].head(num_recommendations))\n"
   ]
  },
  {
   "cell_type": "code",
   "execution_count": 55,
   "id": "b91eeda2",
   "metadata": {},
   "outputs": [
    {
     "name": "stdout",
     "output_type": "stream",
     "text": [
      "(38, 2943)\n"
     ]
    }
   ],
   "source": [
    "print(final_ratings_sparse.shape)\n"
   ]
  },
  {
   "cell_type": "markdown",
   "id": "eba094c9",
   "metadata": {},
   "source": [
    "# Recommending top 5 products to user id 37"
   ]
  },
  {
   "cell_type": "code",
   "execution_count": 59,
   "id": "22704a62",
   "metadata": {},
   "outputs": [
    {
     "name": "stdout",
     "output_type": "stream",
     "text": [
      "\n",
      "Below are the recommended products for user(user_id = 37):\n",
      "\n",
      "Recommended Products\n",
      "1557    0.031445\n",
      "1535    0.023530\n",
      "1412    0.023314\n",
      "1218    0.023314\n",
      "1211    0.023314\n",
      "Name: user_predictions, dtype: float64\n"
     ]
    }
   ],
   "source": [
    "#Enter 'user index' and 'num_recommendations' for the user\n",
    "recommend_items(37,final_ratings_sparse,preds_matrix,5)"
   ]
  },
  {
   "cell_type": "markdown",
   "id": "6e7c8bf8",
   "metadata": {},
   "source": [
    "# Recommending top 10 products to user id 37"
   ]
  },
  {
   "cell_type": "code",
   "execution_count": 61,
   "id": "f279ce81",
   "metadata": {},
   "outputs": [
    {
     "name": "stdout",
     "output_type": "stream",
     "text": [
      "\n",
      "Below are the recommended products for user(user_id = 37):\n",
      "\n",
      "Recommended Products\n",
      "1557    0.031445\n",
      "1535    0.023530\n",
      "1412    0.023314\n",
      "1218    0.023314\n",
      "1211    0.023314\n",
      "1210    0.023314\n",
      "1270    0.023314\n",
      "1120    0.023314\n",
      "1193    0.023314\n",
      "1531    0.022110\n",
      "Name: user_predictions, dtype: float64\n"
     ]
    }
   ],
   "source": [
    "recommend_items(37,final_ratings_sparse,preds_matrix,10)"
   ]
  },
  {
   "cell_type": "markdown",
   "id": "b3a2126a",
   "metadata": {},
   "source": [
    "# Evaluating the model"
   ]
  },
  {
   "cell_type": "code",
   "execution_count": 62,
   "id": "70ba97a4",
   "metadata": {},
   "outputs": [
    {
     "data": {
      "text/html": [
       "<div>\n",
       "<style scoped>\n",
       "    .dataframe tbody tr th:only-of-type {\n",
       "        vertical-align: middle;\n",
       "    }\n",
       "\n",
       "    .dataframe tbody tr th {\n",
       "        vertical-align: top;\n",
       "    }\n",
       "\n",
       "    .dataframe thead th {\n",
       "        text-align: right;\n",
       "    }\n",
       "</style>\n",
       "<table border=\"1\" class=\"dataframe\">\n",
       "  <thead>\n",
       "    <tr style=\"text-align: right;\">\n",
       "      <th>prod_id</th>\n",
       "      <th>1400532655</th>\n",
       "      <th>1400599997</th>\n",
       "      <th>9043413585</th>\n",
       "      <th>998376234X</th>\n",
       "      <th>B000000O48</th>\n",
       "      <th>B000001OL6</th>\n",
       "      <th>B000001OMI</th>\n",
       "      <th>B000001OMN</th>\n",
       "      <th>B00000DM9W</th>\n",
       "      <th>B00000J05A</th>\n",
       "      <th>...</th>\n",
       "      <th>B000I992XY</th>\n",
       "      <th>B000I9B2AA</th>\n",
       "      <th>B000IALP88</th>\n",
       "      <th>B000IBRX4M</th>\n",
       "      <th>B000ICZZJG</th>\n",
       "      <th>B000IDCDZY</th>\n",
       "      <th>B000IDWDKO</th>\n",
       "      <th>B000IE5XIC</th>\n",
       "      <th>B000IE8Z4Q</th>\n",
       "      <th>B000IF4788</th>\n",
       "    </tr>\n",
       "    <tr>\n",
       "      <th>user_index</th>\n",
       "      <th></th>\n",
       "      <th></th>\n",
       "      <th></th>\n",
       "      <th></th>\n",
       "      <th></th>\n",
       "      <th></th>\n",
       "      <th></th>\n",
       "      <th></th>\n",
       "      <th></th>\n",
       "      <th></th>\n",
       "      <th></th>\n",
       "      <th></th>\n",
       "      <th></th>\n",
       "      <th></th>\n",
       "      <th></th>\n",
       "      <th></th>\n",
       "      <th></th>\n",
       "      <th></th>\n",
       "      <th></th>\n",
       "      <th></th>\n",
       "      <th></th>\n",
       "    </tr>\n",
       "  </thead>\n",
       "  <tbody>\n",
       "    <tr>\n",
       "      <th>0</th>\n",
       "      <td>0.0</td>\n",
       "      <td>0.0</td>\n",
       "      <td>0.0</td>\n",
       "      <td>0.0</td>\n",
       "      <td>0.0</td>\n",
       "      <td>0.0</td>\n",
       "      <td>0.0</td>\n",
       "      <td>2.0</td>\n",
       "      <td>0.0</td>\n",
       "      <td>0.0</td>\n",
       "      <td>...</td>\n",
       "      <td>0.0</td>\n",
       "      <td>0.0</td>\n",
       "      <td>0.0</td>\n",
       "      <td>0.0</td>\n",
       "      <td>0.0</td>\n",
       "      <td>0.0</td>\n",
       "      <td>0.0</td>\n",
       "      <td>0.0</td>\n",
       "      <td>0.0</td>\n",
       "      <td>0.0</td>\n",
       "    </tr>\n",
       "    <tr>\n",
       "      <th>1</th>\n",
       "      <td>0.0</td>\n",
       "      <td>0.0</td>\n",
       "      <td>0.0</td>\n",
       "      <td>0.0</td>\n",
       "      <td>0.0</td>\n",
       "      <td>0.0</td>\n",
       "      <td>0.0</td>\n",
       "      <td>0.0</td>\n",
       "      <td>0.0</td>\n",
       "      <td>0.0</td>\n",
       "      <td>...</td>\n",
       "      <td>0.0</td>\n",
       "      <td>0.0</td>\n",
       "      <td>0.0</td>\n",
       "      <td>0.0</td>\n",
       "      <td>0.0</td>\n",
       "      <td>0.0</td>\n",
       "      <td>0.0</td>\n",
       "      <td>0.0</td>\n",
       "      <td>0.0</td>\n",
       "      <td>0.0</td>\n",
       "    </tr>\n",
       "    <tr>\n",
       "      <th>2</th>\n",
       "      <td>0.0</td>\n",
       "      <td>0.0</td>\n",
       "      <td>0.0</td>\n",
       "      <td>0.0</td>\n",
       "      <td>0.0</td>\n",
       "      <td>0.0</td>\n",
       "      <td>0.0</td>\n",
       "      <td>0.0</td>\n",
       "      <td>0.0</td>\n",
       "      <td>0.0</td>\n",
       "      <td>...</td>\n",
       "      <td>0.0</td>\n",
       "      <td>0.0</td>\n",
       "      <td>0.0</td>\n",
       "      <td>0.0</td>\n",
       "      <td>0.0</td>\n",
       "      <td>0.0</td>\n",
       "      <td>0.0</td>\n",
       "      <td>0.0</td>\n",
       "      <td>0.0</td>\n",
       "      <td>0.0</td>\n",
       "    </tr>\n",
       "    <tr>\n",
       "      <th>3</th>\n",
       "      <td>0.0</td>\n",
       "      <td>0.0</td>\n",
       "      <td>0.0</td>\n",
       "      <td>0.0</td>\n",
       "      <td>0.0</td>\n",
       "      <td>0.0</td>\n",
       "      <td>0.0</td>\n",
       "      <td>0.0</td>\n",
       "      <td>0.0</td>\n",
       "      <td>0.0</td>\n",
       "      <td>...</td>\n",
       "      <td>0.0</td>\n",
       "      <td>0.0</td>\n",
       "      <td>0.0</td>\n",
       "      <td>0.0</td>\n",
       "      <td>0.0</td>\n",
       "      <td>0.0</td>\n",
       "      <td>0.0</td>\n",
       "      <td>0.0</td>\n",
       "      <td>0.0</td>\n",
       "      <td>0.0</td>\n",
       "    </tr>\n",
       "    <tr>\n",
       "      <th>4</th>\n",
       "      <td>0.0</td>\n",
       "      <td>0.0</td>\n",
       "      <td>0.0</td>\n",
       "      <td>0.0</td>\n",
       "      <td>0.0</td>\n",
       "      <td>0.0</td>\n",
       "      <td>0.0</td>\n",
       "      <td>0.0</td>\n",
       "      <td>0.0</td>\n",
       "      <td>0.0</td>\n",
       "      <td>...</td>\n",
       "      <td>0.0</td>\n",
       "      <td>0.0</td>\n",
       "      <td>0.0</td>\n",
       "      <td>0.0</td>\n",
       "      <td>0.0</td>\n",
       "      <td>0.0</td>\n",
       "      <td>0.0</td>\n",
       "      <td>0.0</td>\n",
       "      <td>0.0</td>\n",
       "      <td>0.0</td>\n",
       "    </tr>\n",
       "  </tbody>\n",
       "</table>\n",
       "<p>5 rows × 2943 columns</p>\n",
       "</div>"
      ],
      "text/plain": [
       "prod_id     1400532655  1400599997  9043413585  998376234X  B000000O48  \\\n",
       "user_index                                                               \n",
       "0                  0.0         0.0         0.0         0.0         0.0   \n",
       "1                  0.0         0.0         0.0         0.0         0.0   \n",
       "2                  0.0         0.0         0.0         0.0         0.0   \n",
       "3                  0.0         0.0         0.0         0.0         0.0   \n",
       "4                  0.0         0.0         0.0         0.0         0.0   \n",
       "\n",
       "prod_id     B000001OL6  B000001OMI  B000001OMN  B00000DM9W  B00000J05A  ...  \\\n",
       "user_index                                                              ...   \n",
       "0                  0.0         0.0         2.0         0.0         0.0  ...   \n",
       "1                  0.0         0.0         0.0         0.0         0.0  ...   \n",
       "2                  0.0         0.0         0.0         0.0         0.0  ...   \n",
       "3                  0.0         0.0         0.0         0.0         0.0  ...   \n",
       "4                  0.0         0.0         0.0         0.0         0.0  ...   \n",
       "\n",
       "prod_id     B000I992XY  B000I9B2AA  B000IALP88  B000IBRX4M  B000ICZZJG  \\\n",
       "user_index                                                               \n",
       "0                  0.0         0.0         0.0         0.0         0.0   \n",
       "1                  0.0         0.0         0.0         0.0         0.0   \n",
       "2                  0.0         0.0         0.0         0.0         0.0   \n",
       "3                  0.0         0.0         0.0         0.0         0.0   \n",
       "4                  0.0         0.0         0.0         0.0         0.0   \n",
       "\n",
       "prod_id     B000IDCDZY  B000IDWDKO  B000IE5XIC  B000IE8Z4Q  B000IF4788  \n",
       "user_index                                                              \n",
       "0                  0.0         0.0         0.0         0.0         0.0  \n",
       "1                  0.0         0.0         0.0         0.0         0.0  \n",
       "2                  0.0         0.0         0.0         0.0         0.0  \n",
       "3                  0.0         0.0         0.0         0.0         0.0  \n",
       "4                  0.0         0.0         0.0         0.0         0.0  \n",
       "\n",
       "[5 rows x 2943 columns]"
      ]
     },
     "execution_count": 62,
     "metadata": {},
     "output_type": "execute_result"
    }
   ],
   "source": [
    "final_ratings_matrix['user_index'] = np.arange(0, final_ratings_matrix.shape[0])\n",
    "final_ratings_matrix.set_index(['user_index'], inplace=True)\n",
    "\n",
    "# Actual ratings given by users\n",
    "final_ratings_matrix.head()\n",
    "     "
   ]
  },
  {
   "cell_type": "code",
   "execution_count": 63,
   "id": "ff4185e2",
   "metadata": {},
   "outputs": [
    {
     "data": {
      "text/plain": [
       "prod_id\n",
       "1400532655    0.026316\n",
       "1400599997    0.026316\n",
       "9043413585    0.078947\n",
       "998376234X    0.026316\n",
       "B000000O48    0.131579\n",
       "dtype: float64"
      ]
     },
     "execution_count": 63,
     "metadata": {},
     "output_type": "execute_result"
    }
   ],
   "source": [
    "average_rating = final_ratings_matrix.mean()\n",
    "average_rating.head()"
   ]
  },
  {
   "cell_type": "code",
   "execution_count": 64,
   "id": "b19adfb3",
   "metadata": {},
   "outputs": [
    {
     "data": {
      "text/html": [
       "<div>\n",
       "<style scoped>\n",
       "    .dataframe tbody tr th:only-of-type {\n",
       "        vertical-align: middle;\n",
       "    }\n",
       "\n",
       "    .dataframe tbody tr th {\n",
       "        vertical-align: top;\n",
       "    }\n",
       "\n",
       "    .dataframe thead th {\n",
       "        text-align: right;\n",
       "    }\n",
       "</style>\n",
       "<table border=\"1\" class=\"dataframe\">\n",
       "  <thead>\n",
       "    <tr style=\"text-align: right;\">\n",
       "      <th>prod_id</th>\n",
       "      <th>1400532655</th>\n",
       "      <th>1400599997</th>\n",
       "      <th>9043413585</th>\n",
       "      <th>998376234X</th>\n",
       "      <th>B000000O48</th>\n",
       "      <th>B000001OL6</th>\n",
       "      <th>B000001OMI</th>\n",
       "      <th>B000001OMN</th>\n",
       "      <th>B00000DM9W</th>\n",
       "      <th>B00000J05A</th>\n",
       "      <th>...</th>\n",
       "      <th>B000I992XY</th>\n",
       "      <th>B000I9B2AA</th>\n",
       "      <th>B000IALP88</th>\n",
       "      <th>B000IBRX4M</th>\n",
       "      <th>B000ICZZJG</th>\n",
       "      <th>B000IDCDZY</th>\n",
       "      <th>B000IDWDKO</th>\n",
       "      <th>B000IE5XIC</th>\n",
       "      <th>B000IE8Z4Q</th>\n",
       "      <th>B000IF4788</th>\n",
       "    </tr>\n",
       "  </thead>\n",
       "  <tbody>\n",
       "    <tr>\n",
       "      <th>0</th>\n",
       "      <td>0.000109</td>\n",
       "      <td>0.000463</td>\n",
       "      <td>0.000154</td>\n",
       "      <td>0.000174</td>\n",
       "      <td>0.000357</td>\n",
       "      <td>0.000026</td>\n",
       "      <td>0.000147</td>\n",
       "      <td>1.999884</td>\n",
       "      <td>0.000295</td>\n",
       "      <td>0.000276</td>\n",
       "      <td>...</td>\n",
       "      <td>0.000065</td>\n",
       "      <td>0.000147</td>\n",
       "      <td>0.000543</td>\n",
       "      <td>0.000326</td>\n",
       "      <td>0.000295</td>\n",
       "      <td>0.000088</td>\n",
       "      <td>0.000975</td>\n",
       "      <td>0.000871</td>\n",
       "      <td>0.000107</td>\n",
       "      <td>0.000950</td>\n",
       "    </tr>\n",
       "    <tr>\n",
       "      <th>1</th>\n",
       "      <td>0.008017</td>\n",
       "      <td>0.034190</td>\n",
       "      <td>0.011384</td>\n",
       "      <td>0.012861</td>\n",
       "      <td>0.026382</td>\n",
       "      <td>0.001936</td>\n",
       "      <td>0.010822</td>\n",
       "      <td>0.008605</td>\n",
       "      <td>0.021775</td>\n",
       "      <td>0.020421</td>\n",
       "      <td>...</td>\n",
       "      <td>0.004793</td>\n",
       "      <td>0.010822</td>\n",
       "      <td>0.040083</td>\n",
       "      <td>0.024050</td>\n",
       "      <td>0.021775</td>\n",
       "      <td>0.006493</td>\n",
       "      <td>0.072046</td>\n",
       "      <td>0.064305</td>\n",
       "      <td>0.007877</td>\n",
       "      <td>0.070208</td>\n",
       "    </tr>\n",
       "    <tr>\n",
       "      <th>2</th>\n",
       "      <td>0.001025</td>\n",
       "      <td>0.004370</td>\n",
       "      <td>0.001455</td>\n",
       "      <td>0.001644</td>\n",
       "      <td>0.003372</td>\n",
       "      <td>0.000247</td>\n",
       "      <td>0.001383</td>\n",
       "      <td>0.001100</td>\n",
       "      <td>0.002783</td>\n",
       "      <td>0.002610</td>\n",
       "      <td>...</td>\n",
       "      <td>0.000613</td>\n",
       "      <td>0.001383</td>\n",
       "      <td>0.005123</td>\n",
       "      <td>0.003074</td>\n",
       "      <td>0.002783</td>\n",
       "      <td>0.000830</td>\n",
       "      <td>0.009208</td>\n",
       "      <td>0.008219</td>\n",
       "      <td>0.001007</td>\n",
       "      <td>0.008973</td>\n",
       "    </tr>\n",
       "    <tr>\n",
       "      <th>3</th>\n",
       "      <td>0.000868</td>\n",
       "      <td>0.003704</td>\n",
       "      <td>0.001233</td>\n",
       "      <td>0.001393</td>\n",
       "      <td>0.002858</td>\n",
       "      <td>0.000210</td>\n",
       "      <td>0.001172</td>\n",
       "      <td>0.000932</td>\n",
       "      <td>0.002359</td>\n",
       "      <td>0.002212</td>\n",
       "      <td>...</td>\n",
       "      <td>0.000519</td>\n",
       "      <td>0.001172</td>\n",
       "      <td>0.004342</td>\n",
       "      <td>0.002605</td>\n",
       "      <td>0.002359</td>\n",
       "      <td>0.000703</td>\n",
       "      <td>0.007805</td>\n",
       "      <td>0.006967</td>\n",
       "      <td>0.000853</td>\n",
       "      <td>0.007606</td>\n",
       "    </tr>\n",
       "    <tr>\n",
       "      <th>4</th>\n",
       "      <td>0.000288</td>\n",
       "      <td>0.001227</td>\n",
       "      <td>0.000408</td>\n",
       "      <td>0.000461</td>\n",
       "      <td>0.000947</td>\n",
       "      <td>0.000069</td>\n",
       "      <td>0.000388</td>\n",
       "      <td>0.000309</td>\n",
       "      <td>0.000781</td>\n",
       "      <td>0.000733</td>\n",
       "      <td>...</td>\n",
       "      <td>0.000172</td>\n",
       "      <td>0.000388</td>\n",
       "      <td>0.001438</td>\n",
       "      <td>0.000863</td>\n",
       "      <td>0.000781</td>\n",
       "      <td>0.000233</td>\n",
       "      <td>0.002585</td>\n",
       "      <td>0.002307</td>\n",
       "      <td>0.000283</td>\n",
       "      <td>0.002519</td>\n",
       "    </tr>\n",
       "  </tbody>\n",
       "</table>\n",
       "<p>5 rows × 2943 columns</p>\n",
       "</div>"
      ],
      "text/plain": [
       "prod_id  1400532655  1400599997  9043413585  998376234X  B000000O48  \\\n",
       "0          0.000109    0.000463    0.000154    0.000174    0.000357   \n",
       "1          0.008017    0.034190    0.011384    0.012861    0.026382   \n",
       "2          0.001025    0.004370    0.001455    0.001644    0.003372   \n",
       "3          0.000868    0.003704    0.001233    0.001393    0.002858   \n",
       "4          0.000288    0.001227    0.000408    0.000461    0.000947   \n",
       "\n",
       "prod_id  B000001OL6  B000001OMI  B000001OMN  B00000DM9W  B00000J05A  ...  \\\n",
       "0          0.000026    0.000147    1.999884    0.000295    0.000276  ...   \n",
       "1          0.001936    0.010822    0.008605    0.021775    0.020421  ...   \n",
       "2          0.000247    0.001383    0.001100    0.002783    0.002610  ...   \n",
       "3          0.000210    0.001172    0.000932    0.002359    0.002212  ...   \n",
       "4          0.000069    0.000388    0.000309    0.000781    0.000733  ...   \n",
       "\n",
       "prod_id  B000I992XY  B000I9B2AA  B000IALP88  B000IBRX4M  B000ICZZJG  \\\n",
       "0          0.000065    0.000147    0.000543    0.000326    0.000295   \n",
       "1          0.004793    0.010822    0.040083    0.024050    0.021775   \n",
       "2          0.000613    0.001383    0.005123    0.003074    0.002783   \n",
       "3          0.000519    0.001172    0.004342    0.002605    0.002359   \n",
       "4          0.000172    0.000388    0.001438    0.000863    0.000781   \n",
       "\n",
       "prod_id  B000IDCDZY  B000IDWDKO  B000IE5XIC  B000IE8Z4Q  B000IF4788  \n",
       "0          0.000088    0.000975    0.000871    0.000107    0.000950  \n",
       "1          0.006493    0.072046    0.064305    0.007877    0.070208  \n",
       "2          0.000830    0.009208    0.008219    0.001007    0.008973  \n",
       "3          0.000703    0.007805    0.006967    0.000853    0.007606  \n",
       "4          0.000233    0.002585    0.002307    0.000283    0.002519  \n",
       "\n",
       "[5 rows x 2943 columns]"
      ]
     },
     "execution_count": 64,
     "metadata": {},
     "output_type": "execute_result"
    }
   ],
   "source": [
    "preds_df.head()\n",
    "     "
   ]
  },
  {
   "cell_type": "code",
   "execution_count": 65,
   "id": "5388bda5",
   "metadata": {},
   "outputs": [
    {
     "data": {
      "text/plain": [
       "prod_id\n",
       "1400532655    0.027147\n",
       "1400599997    0.029713\n",
       "9043413585    0.080136\n",
       "998376234X    0.027639\n",
       "B000000O48    0.134327\n",
       "dtype: float64"
      ]
     },
     "execution_count": 65,
     "metadata": {},
     "output_type": "execute_result"
    }
   ],
   "source": [
    "avg_preds=preds_df.mean()\n",
    "avg_preds.head()"
   ]
  },
  {
   "cell_type": "code",
   "execution_count": 66,
   "id": "5c408646",
   "metadata": {},
   "outputs": [
    {
     "data": {
      "text/html": [
       "<div>\n",
       "<style scoped>\n",
       "    .dataframe tbody tr th:only-of-type {\n",
       "        vertical-align: middle;\n",
       "    }\n",
       "\n",
       "    .dataframe tbody tr th {\n",
       "        vertical-align: top;\n",
       "    }\n",
       "\n",
       "    .dataframe thead th {\n",
       "        text-align: right;\n",
       "    }\n",
       "</style>\n",
       "<table border=\"1\" class=\"dataframe\">\n",
       "  <thead>\n",
       "    <tr style=\"text-align: right;\">\n",
       "      <th></th>\n",
       "      <th>Avg_actual_ratings</th>\n",
       "      <th>Avg_predicted_ratings</th>\n",
       "    </tr>\n",
       "    <tr>\n",
       "      <th>prod_id</th>\n",
       "      <th></th>\n",
       "      <th></th>\n",
       "    </tr>\n",
       "  </thead>\n",
       "  <tbody>\n",
       "    <tr>\n",
       "      <th>1400532655</th>\n",
       "      <td>0.026316</td>\n",
       "      <td>0.027147</td>\n",
       "    </tr>\n",
       "    <tr>\n",
       "      <th>1400599997</th>\n",
       "      <td>0.026316</td>\n",
       "      <td>0.029713</td>\n",
       "    </tr>\n",
       "    <tr>\n",
       "      <th>9043413585</th>\n",
       "      <td>0.078947</td>\n",
       "      <td>0.080136</td>\n",
       "    </tr>\n",
       "    <tr>\n",
       "      <th>998376234X</th>\n",
       "      <td>0.026316</td>\n",
       "      <td>0.027639</td>\n",
       "    </tr>\n",
       "    <tr>\n",
       "      <th>B000000O48</th>\n",
       "      <td>0.131579</td>\n",
       "      <td>0.134327</td>\n",
       "    </tr>\n",
       "  </tbody>\n",
       "</table>\n",
       "</div>"
      ],
      "text/plain": [
       "            Avg_actual_ratings  Avg_predicted_ratings\n",
       "prod_id                                              \n",
       "1400532655            0.026316               0.027147\n",
       "1400599997            0.026316               0.029713\n",
       "9043413585            0.078947               0.080136\n",
       "998376234X            0.026316               0.027639\n",
       "B000000O48            0.131579               0.134327"
      ]
     },
     "execution_count": 66,
     "metadata": {},
     "output_type": "execute_result"
    }
   ],
   "source": [
    "rmse_df = pd.concat([average_rating, avg_preds], axis=1)\n",
    "\n",
    "rmse_df.columns = ['Avg_actual_ratings', 'Avg_predicted_ratings']\n",
    "\n",
    "rmse_df.head()\n",
    "     "
   ]
  },
  {
   "cell_type": "code",
   "execution_count": 67,
   "id": "9f5d3291",
   "metadata": {},
   "outputs": [
    {
     "name": "stdout",
     "output_type": "stream",
     "text": [
      "RMSE SVD Model = 0.014252133864948502 \n",
      "\n"
     ]
    }
   ],
   "source": [
    "RMSE=mean_squared_error(rmse_df['Avg_actual_ratings'], rmse_df['Avg_predicted_ratings'], squared=False)\n",
    "print(f'RMSE SVD Model = {RMSE} \\n')"
   ]
  },
  {
   "cell_type": "code",
   "execution_count": null,
   "id": "fed51f68",
   "metadata": {},
   "outputs": [],
   "source": []
  }
 ],
 "metadata": {
  "kernelspec": {
   "display_name": "Python 3 (ipykernel)",
   "language": "python",
   "name": "python3"
  },
  "language_info": {
   "codemirror_mode": {
    "name": "ipython",
    "version": 3
   },
   "file_extension": ".py",
   "mimetype": "text/x-python",
   "name": "python",
   "nbconvert_exporter": "python",
   "pygments_lexer": "ipython3",
   "version": "3.10.8"
  }
 },
 "nbformat": 4,
 "nbformat_minor": 5
}
